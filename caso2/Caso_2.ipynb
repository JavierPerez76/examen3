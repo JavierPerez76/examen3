{
 "cells": [
  {
   "cell_type": "markdown",
   "metadata": {
    "application/vnd.databricks.v1+cell": {
     "cellMetadata": {},
     "inputWidgets": {},
     "nuid": "7bc88472-0819-44bb-a870-05c265cca4c5",
     "showTitle": false,
     "tableResultSettingsMap": {},
     "title": ""
    }
   },
   "source": [
    "# Encontrando insights de la UEFA Champions League"
   ]
  },
  {
   "cell_type": "markdown",
   "metadata": {
    "application/vnd.databricks.v1+cell": {
     "cellMetadata": {},
     "inputWidgets": {},
     "nuid": "dec9c196-3f29-444f-a2f7-13e3827b29ef",
     "showTitle": false,
     "tableResultSettingsMap": {},
     "title": ""
    }
   },
   "source": [
    "La Liga de Campeones de la UEFA, a menudo llamada Liga de Campeones, es una competencia anual de fútbol por excelencia que cautiva a los fanáticos de todo el mundo. Establecida en 1955 como la Copa de Clubes Campeones de Europa, evolucionó a la Liga de Campeones de la UEFA en 1992, ampliando su atractivo. El formato moderno cuenta con 32 equipos de clubes de primer nivel seleccionados en función de su desempeño en la liga nacional, lo que aumenta la intriga.  \n",
    "\n",
    "Este evento electrizante trasciende los deportes y se convierte en una celebración de la unidad, la cultura y el orgullo nacional. Los fanáticos, vestidos con los colores de sus países, crean una atmósfera eléctrica, lo que hace que el torneo sea tanto sobre los espectadores como sobre los jugadores. Financieramente, la Liga de Campeones es un salvavidas para los clubes, ya que aumenta los ingresos y ofrece oportunidades transformadoras. Sin embargo, genera debates sobre las disparidades de riqueza en el fútbol europeo.  \n",
    "\n",
    "La Liga de Campeones es sinónimo de rivalidades históricas, triunfos de los desvalidos y brillantez individual. Para los jugadores, representa la cima de su carrera, mientras que para los fanáticos, es un fenómeno cultural. El himno y los rituales icónicos enriquecen la experiencia futbolística. En 200 palabras, la UEFA Champions League es el epítome de la excelencia del fútbol europeo, que ofrece momentos inolvidables, recompensas económicas y un impacto cultural único, con 32 clubes de primer nivel que se suman a su atractivo."
   ]
  },
  {
   "cell_type": "markdown",
   "metadata": {
    "application/vnd.databricks.v1+cell": {
     "cellMetadata": {},
     "inputWidgets": {},
     "nuid": "3ff8fe53-6686-4ae2-8c5b-662e85535ff5",
     "showTitle": false,
     "tableResultSettingsMap": {},
     "title": ""
    }
   },
   "source": [
    "**Nombres de las tablas o ficheros a utilizar**:  \n",
    "[uefa_2020.csv](https://tajamar365.sharepoint.com/:x:/s/3405-MasterIA2024-2025/EQuW8d16tZJKpYZN6jR480sBgc1IYypAw9hGHKQARS560g?e=7TybBU)  \n",
    "[uefa_2021.csv](https://tajamar365.sharepoint.com/:x:/s/3405-MasterIA2024-2025/ESG8YBrjD3tBky3aGT0MwIABNt_PQxFVVYVlWMnZYUmV8g?e=VrYHtX)  \n",
    "[uefa_2022.csv](https://tajamar365.sharepoint.com/:x:/s/3405-MasterIA2024-2025/Ecf8O8U8sxJLoW9Bkd2ZVzgBb_gZc35mNcprnR9FMlzliQ?e=Vn3a6v)  \n",
    "- Todas las tablas tienen las mismas columnas y data types"
   ]
  },
  {
   "cell_type": "markdown",
   "metadata": {
    "application/vnd.databricks.v1+cell": {
     "cellMetadata": {},
     "inputWidgets": {},
     "nuid": "910b06ac-21ef-4f0c-bb95-9611f90d7635",
     "showTitle": false,
     "tableResultSettingsMap": {},
     "title": ""
    }
   },
   "source": [
    "| Column | Definition | Data type |\n",
    "|--------|------------|-----------|\n",
    "| `STAGE`| Stage of the March | `VARCHAR(50)` |\n",
    "| `DATE` | When the match occurred. | `DATE` |\n",
    "| `PENS` | Did the match end with penalty | `VARCHAR(50)` |\n",
    "| `PENS_HOME_SCORE` | In case of penalty, score by home team | `VARCHAR(50)` |\n",
    "| `PENS_AWAY_SCORE` | In case of penalty, score by away team | `VARCHAR(50)` |\n",
    "| `TEAM_NAME_HOME` | Team home name | `VARCHAR(50)` |\n",
    "| `TEAM_NAME_AWAY`| Team away  name | `VARCHAR(50)` |\n",
    "| `TEAM_HOME_SCORE` | Team home score | `NUMBER` |\n",
    "| `TEAM_AWAY_SCORE` | Team away score | `NUMBER` |\n",
    "| `POSSESSION_HOME` | Ball possession for the home team | `FLOAT` |\n",
    "| `POSSESSION_AWAY` | Ball possession for the away team | `FLOAT` |\n",
    "| `TOTAL_SHOTS_HOME` | Number of shots by the home team | `NUMBER` |\n",
    "| `TOTAL_SHOTS_AWAY` | Number of shots by the away team | `NUMBER`\n",
    "| `SHOTS_ON_TARGET_HOME` | Total shot for home team | `FLOAT` |\n",
    "| `SHOTS_ON_TARGET_AWAY` | Total shot for away team | `FLOAT` |\n",
    "| `DUELS_WON_HOME` | duel win possession of ball - for home team | `NUMBER` |\n",
    "| `DUELS_WON_AWAY` | duel win possession of ball - for away team | `NUMBER` \n",
    "| `PREDICTION_TEAM_HOME_WIN` | Probability of home team to win | `FLOAT` |\n",
    "| `PREDICTION_DRAW` | Probability of draw | `FLOAT` |\n",
    "| `PREDICTION_TEAM_AWAY_WIN` | Probability of away team to win | `FLOAT` |\n",
    "| `LOCATION` | Stadium where the match was held | `VARCHAR(50)` |"
   ]
  },
  {
   "cell_type": "markdown",
   "metadata": {
    "application/vnd.databricks.v1+cell": {
     "cellMetadata": {},
     "inputWidgets": {},
     "nuid": "b6ed3067-8a31-45a7-9120-766336560fef",
     "showTitle": false,
     "tableResultSettingsMap": {},
     "title": ""
    }
   },
   "source": [
    "### Requerimientos:  \n",
    "-Puedes utilizar SQL o PySpark"
   ]
  },
  {
   "cell_type": "code",
   "execution_count": 0,
   "metadata": {
    "application/vnd.databricks.v1+cell": {
     "cellMetadata": {
      "byteLimit": 2048000,
      "rowLimit": 10000
     },
     "inputWidgets": {},
     "nuid": "938b218c-f29b-4876-8ca3-b4c09bba7534",
     "showTitle": false,
     "tableResultSettingsMap": {},
     "title": ""
    }
   },
   "outputs": [],
   "source": [
    "from pyspark.sql.types import StructType, StructField, StringType, IntegerType\n",
    "df20 = spark.read.option(\"header\", \"true\").csv(\"/FileStore/Examen/Caso2/uefa_2020.csv\")\n",
    "df21 = spark.read.option(\"header\", \"true\").csv(\"/FileStore/Examen/Caso2/uefa_2021.csv\")\n",
    "df22 = spark.read.option(\"header\", \"true\").csv(\"/FileStore/Examen/Caso2/uefa_2022.csv\")"
   ]
  },
  {
   "cell_type": "markdown",
   "metadata": {
    "application/vnd.databricks.v1+cell": {
     "cellMetadata": {},
     "inputWidgets": {},
     "nuid": "96872dad-7ed6-4372-84e9-763aa2d6c83f",
     "showTitle": false,
     "tableResultSettingsMap": {},
     "title": ""
    }
   },
   "source": [
    "1. Encuentra los 3 equipos que anotaron más goles jugando en su estadio en la UEFA Champions League 2020-21. El resultado debe contener dos columnas: TEAM_NAME_HOME y TEAM_HOME_SCORE ordenadas en orden descendente de TEAM_HOME_SCORE. Guarda la consulta (o el notebook) como TEAM_HOME_WITH_MOST_GOALS."
   ]
  },
  {
   "cell_type": "code",
   "execution_count": 0,
   "metadata": {
    "application/vnd.databricks.v1+cell": {
     "cellMetadata": {
      "byteLimit": 2048000,
      "rowLimit": 10000
     },
     "inputWidgets": {},
     "nuid": "b365f6a0-1bb4-4456-81ee-49171320107a",
     "showTitle": false,
     "tableResultSettingsMap": {},
     "title": ""
    }
   },
   "outputs": [
    {
     "output_type": "stream",
     "name": "stdout",
     "output_type": "stream",
     "text": [
      "+--------------------+-------------------+\n|      TEAM_NAME_HOME|TEAM_HOME_SCORE_SUM|\n+--------------------+-------------------+\n|    Manchester City |               15.0|\n|        Real Madrid |               14.0|\n|      Bayern Munich |               13.0|\n|  Manchester United |               10.0|\n|                PSG |                9.0|\n|              Lazio |                9.0|\n|  Borussia Dortmund |                9.0|\n|           Juventus |                8.0|\n|      B. M‘Gladbach |                8.0|\n|            Chelsea |                8.0|\n|          Barcelona |                8.0|\n|         RB Leipzig |                7.0|\n|           FC Porto |                7.0|\n|            Sevilla |                6.0|\n|          Liverpool |                5.0|\n| İstanbul Başakşe...|                5.0|\n|           Salzburg |                4.0|\n|    Atlético Madrid |                4.0|\n|        Club Brugge |                4.0|\n|              Zenit |                3.0|\n+--------------------+-------------------+\nonly showing top 20 rows\n\n"
     ]
    }
   ],
   "source": [
    "df20.createOrReplaceGlobalTempView(\"TEAM_HOME_WITH_MOST_GOALS\") \n",
    "TEAM_HOME_WITH_MOST_GOALS = spark.sql(\"\"\"\n",
    "                                      SELECT TEAM_NAME_HOME, SUM(TEAM_HOME_SCORE) AS TEAM_HOME_SCORE_SUM \n",
    "                                      FROM global_temp.TEAM_HOME_WITH_MOST_GOALS \n",
    "                                      GROUP BY TEAM_NAME_HOME \n",
    "                                      ORDER BY TEAM_HOME_SCORE_SUM DESC\n",
    "                                      \"\"\")\n",
    "\n",
    "TEAM_HOME_WITH_MOST_GOALS.show()"
   ]
  },
  {
   "cell_type": "markdown",
   "metadata": {
    "application/vnd.databricks.v1+cell": {
     "cellMetadata": {},
     "inputWidgets": {},
     "nuid": "b375e92e-5c96-4ee8-8c35-29b8e7ab887f",
     "showTitle": false,
     "tableResultSettingsMap": {},
     "title": ""
    }
   },
   "source": [
    "2. Encuentra el equipo con posesión mayoritaria la mayor cantidad de veces durante la UEFA Champions League 2021-22. El resultado debe incluir dos columnas: TEAM_NAME y GAME_COUNT, que es la cantidad de veces que el equipo tuvo posesión mayoritaria durante un partido de fútbol. Guarda esta consulta (o el notebook) como TEAM_WITH_MAJORITY_POSSESSION"
   ]
  },
  {
   "cell_type": "code",
   "execution_count": 0,
   "metadata": {
    "application/vnd.databricks.v1+cell": {
     "cellMetadata": {
      "byteLimit": 2048000,
      "rowLimit": 10000
     },
     "inputWidgets": {},
     "nuid": "9f93d43c-e940-440c-bf76-849e342611c4",
     "showTitle": false,
     "tableResultSettingsMap": {},
     "title": ""
    }
   },
   "outputs": [
    {
     "output_type": "stream",
     "name": "stdout",
     "output_type": "stream",
     "text": [
      "+----------------+----------+\n|       TEAM_NAME|GAME_COUNT|\n+----------------+----------+\n|       Liverpool|         9|\n|        Man City|         7|\n|          Bayern|         7|\n|            Ajax|         6|\n|         Chelsea|         6|\n|           Paris|         5|\n|      Man United|         5|\n|        Juventus|         5|\n|     Real Madrid|         4|\n|       Wolfsburg|         4|\n|Shakhtar Donetsk|         3|\n|      Villarreal|         3|\n|           Milan|         3|\n|           Zenit|         3|\n|        FC Porto|         3|\n|      Young Boys|         3|\n|        Atalanta|         3|\n|         Leipzig|         3|\n|        Besiktas|         2|\n|           Lille|         2|\n+----------------+----------+\nonly showing top 20 rows\n\n"
     ]
    }
   ],
   "source": [
    "df21.createOrReplaceGlobalTempView(\"TEAM_WITH_MAJORITY_POSSESSION\")\n",
    "\n",
    "# Realizamos la consulta SQL\n",
    "result = spark.sql(\"\"\"\n",
    "    SELECT TEAM_NAME, COUNT(*) AS GAME_COUNT\n",
    "    FROM (\n",
    "        SELECT \n",
    "            CASE \n",
    "                WHEN POSSESSION_HOME > POSSESSION_AWAY THEN TEAM_NAME_HOME\n",
    "                WHEN POSSESSION_AWAY > POSSESSION_HOME THEN TEAM_NAME_AWAY\n",
    "                ELSE 'TIE'  -- En caso de empate, si se desea contar también.\n",
    "            END AS TEAM_NAME\n",
    "        FROM global_temp.TEAM_WITH_MAJORITY_POSSESSION\n",
    "    )\n",
    "    WHERE TEAM_NAME != 'TIE'  -- Filtrar los empates si no se quieren contar\n",
    "    GROUP BY TEAM_NAME\n",
    "    ORDER BY GAME_COUNT DESC\n",
    "\"\"\")\n",
    "\n",
    "# Mostrar los resultados\n",
    "result.show()\n"
   ]
  },
  {
   "cell_type": "markdown",
   "metadata": {
    "application/vnd.databricks.v1+cell": {
     "cellMetadata": {},
     "inputWidgets": {},
     "nuid": "7c960a38-f12d-4b88-aaad-b70de0c2323f",
     "showTitle": false,
     "tableResultSettingsMap": {},
     "title": ""
    }
   },
   "source": [
    "3. Encuentra la lista de equipos de cada fase del juego que ganaron el duelo en un partido pero terminaron perdiendo el juego en el Campeonato de la UEFA 2022-23. El resultado debe contener dos columnas: STAGE y TEAM_LOST. Guarda la consulta (o el notebook) como TEAM_WON_DUEL_LOST_GAME_STAGE_WISE."
   ]
  },
  {
   "cell_type": "code",
   "execution_count": 0,
   "metadata": {
    "application/vnd.databricks.v1+cell": {
     "cellMetadata": {
      "byteLimit": 2048000,
      "rowLimit": 10000
     },
     "inputWidgets": {},
     "nuid": "5b5a904a-58be-4e45-8a29-d16b3b8fa65f",
     "showTitle": false,
     "tableResultSettingsMap": {},
     "title": ""
    }
   },
   "outputs": [
    {
     "output_type": "stream",
     "name": "stdout",
     "output_type": "stream",
     "text": [
      "+--------------------+-----------------+\n|               STAGE|        TEAM_LOST|\n+--------------------+-----------------+\n| Group stage: Mat...|          Chelsea|\n| Group stage: Mat...|        K�benhavn|\n| Group stage: Mat...|         Juventus|\n| Group stage: Mat...|    Maccabi Haifa|\n| Group stage: Mat...|          Rangers|\n| Group stage: Mat...|        Liverpool|\n| Group stage: Mat...|            Porto|\n| Group stage: Mat...| Bayer Leverkusen|\n| Group stage: Mat...|   Viktoria Plze?|\n| Group stage: Mat...|        Marseille|\n| Group stage: Mat...|             Ajax|\n| Group stage: Mat...|  Atletico Madrid|\n| Group stage: Mat...|        Barcelona|\n| Group stage: Mat...|Tottenham Hotspur|\n| Group stage: Mat...|       RB Leipzig|\n| Group stage: Mat...|          Rangers|\n| Group stage: Mat...|  Atletico Madrid|\n| Group stage: Mat...| Bayer Leverkusen|\n| Group stage: Mat...|   Viktoria Plze?|\n| Group stage: Mat...|        Barcelona|\n+--------------------+-----------------+\nonly showing top 20 rows\n\n"
     ]
    }
   ],
   "source": [
    "df22.createOrReplaceGlobalTempView(\"TEAM_WON_DUEL_LOST_GAME_STAGE_WISE\") \n",
    "TEAM_WON_DUEL_LOST_GAME_STAGE_WISE = spark.sql(\"\"\"\n",
    "                                    SELECT STAGE, \n",
    "                                    CASE \n",
    "                                        WHEN DUELS_WON_HOME > DUELS_WON_AWAY AND TEAM_HOME_SCORE < TEAM_AWAY_SCORE THEN TEAM_NAME_HOME\n",
    "                                        WHEN DUELS_WON_AWAY > DUELS_WON_HOME AND TEAM_AWAY_SCORE < TEAM_HOME_SCORE THEN TEAM_NAME_AWAY\n",
    "                                    END AS TEAM_LOST\n",
    "                                    FROM global_temp.TEAM_WON_DUEL_LOST_GAME_STAGE_WISE\n",
    "                                    WHERE (DUELS_WON_HOME > DUELS_WON_AWAY AND TEAM_HOME_SCORE < TEAM_AWAY_SCORE)\n",
    "                                      OR (DUELS_WON_AWAY > DUELS_WON_HOME AND TEAM_AWAY_SCORE < TEAM_HOME_SCORE)\n",
    "                                    \"\"\")\n",
    "\n",
    "TEAM_WON_DUEL_LOST_GAME_STAGE_WISE.show()"
   ]
  }
 ],
 "metadata": {
  "application/vnd.databricks.v1+notebook": {
   "dashboards": [],
   "environmentMetadata": null,
   "language": "python",
   "notebookMetadata": {
    "pythonIndentUnit": 4
   },
   "notebookName": "Caso_2",
   "widgets": {}
  }
 },
 "nbformat": 4,
 "nbformat_minor": 0
}
